{
  "nbformat": 4,
  "nbformat_minor": 0,
  "metadata": {
    "colab": {
      "provenance": [],
      "collapsed_sections": []
    },
    "kernelspec": {
      "name": "python3",
      "display_name": "Python 3"
    },
    "language_info": {
      "name": "python"
    }
  },
  "cells": [
    {
      "cell_type": "markdown",
      "source": [
        "Team ID: PNT2022TMID29439\n",
        "\n",
        "Project Name: Fertilizers Recommendation System for Disease Prediction"
      ],
      "metadata": {
        "id": "7W7nKc1Js8DK"
      }
    },
    {
      "cell_type": "code",
      "source": [
        "from google.colab import drive\n",
        "drive.mount('/content/drive')"
      ],
      "metadata": {
        "id": "p3JO6dnjX3Tr"
      },
      "execution_count": null,
      "outputs": []
    },
    {
      "cell_type": "code",
      "source": [
        "!unzip '/content/drive/MyDrive/Colab Notebooks/Dataset.zip'"
      ],
      "metadata": {
        "id": "4iOqr39PYNi8"
      },
      "execution_count": null,
      "outputs": []
    },
    {
      "cell_type": "code",
      "source": [
        "from keras.preprocessing.image import ImageDataGenerator"
      ],
      "metadata": {
        "id": "FoLHFaPzYr9K"
      },
      "execution_count": null,
      "outputs": []
    },
    {
      "cell_type": "code",
      "source": [
        "train_datagen = ImageDataGenerator(rescale = 1./255,shear_range = 0.2,zoom_range = 0.2,horizontal_flip = True)\n",
        "test_datagen =ImageDataGenerator(rescale = 1)"
      ],
      "metadata": {
        "id": "ze7pd3wpY5UV"
      },
      "execution_count": null,
      "outputs": []
    },
    {
      "cell_type": "code",
      "source": [
        "x_train = train_datagen.flow_from_directory('/content/Dataset Plant Disease/Veg-dataset/Veg-dataset/train_set' ,\n",
        "                                            target_size = (128,128),batch_size = 32, class_mode = 'categorical')\n",
        "x_test = test_datagen.flow_from_directory('/content/Dataset Plant Disease/Veg-dataset/Veg-dataset/test_set' ,\n",
        "                                          target_size = (128,128),batch_size = 32, class_mode = 'categorical' )"
      ],
      "metadata": {
        "colab": {
          "base_uri": "https://localhost:8080/"
        },
        "id": "rynIJZ9gZKLp",
        "outputId": "73bee9f7-835e-40dc-dea8-a52ba842c286"
      },
      "execution_count": null,
      "outputs": [
        {
          "output_type": "stream",
          "name": "stdout",
          "text": [
            "Found 11386 images belonging to 9 classes.\n",
            "Found 3416 images belonging to 9 classes.\n"
          ]
        }
      ]
    },
    {
      "cell_type": "markdown",
      "source": [
        "Import the libraries"
      ],
      "metadata": {
        "id": "fgV6l_PUMRDo"
      }
    },
    {
      "cell_type": "code",
      "source": [
        "from keras.models import Sequential\n",
        "from keras.layers import Dense\n",
        "from keras.layers import Convolution2D\n",
        "from keras.layers import MaxPooling2D\n",
        "from keras.layers import Flatten"
      ],
      "metadata": {
        "id": "0qMDUQaEKduY"
      },
      "execution_count": null,
      "outputs": []
    },
    {
      "cell_type": "markdown",
      "source": [
        "Initializing the model"
      ],
      "metadata": {
        "id": "Zh9Cm36JMaH_"
      }
    },
    {
      "cell_type": "code",
      "source": [
        "model=Sequential()"
      ],
      "metadata": {
        "id": "WX315UzJKU4W"
      },
      "execution_count": null,
      "outputs": []
    },
    {
      "cell_type": "markdown",
      "source": [
        "Add CNN layer"
      ],
      "metadata": {
        "id": "2cmktPw7MnoL"
      }
    },
    {
      "cell_type": "markdown",
      "source": [
        "Add convolution layer"
      ],
      "metadata": {
        "id": "Kh7gkjtsNJpH"
      }
    },
    {
      "cell_type": "code",
      "source": [
        "model.add(Convolution2D(32,(3,3),input_shape = (128,128,3),activation = 'relu'))"
      ],
      "metadata": {
        "id": "V6QJMyxuNd2m"
      },
      "execution_count": null,
      "outputs": []
    },
    {
      "cell_type": "markdown",
      "source": [
        "Add Pooling layer"
      ],
      "metadata": {
        "id": "KiTr14euOU4E"
      }
    },
    {
      "cell_type": "code",
      "source": [
        "model.add(MaxPooling2D(pool_size = (2,2)))"
      ],
      "metadata": {
        "id": "U0t4kkJZOhr8"
      },
      "execution_count": null,
      "outputs": []
    },
    {
      "cell_type": "markdown",
      "source": [
        "Add Flatten layer"
      ],
      "metadata": {
        "id": "1vdpHGNEPgPx"
      }
    },
    {
      "cell_type": "code",
      "source": [
        "model.add(Flatten())"
      ],
      "metadata": {
        "id": "Zmyl87AMP_ig"
      },
      "execution_count": null,
      "outputs": []
    },
    {
      "cell_type": "code",
      "source": [
        "model.summary()"
      ],
      "metadata": {
        "colab": {
          "base_uri": "https://localhost:8080/"
        },
        "id": "fFx0p7g3i4eZ",
        "outputId": "bf402f53-4610-4e35-feed-c03382f5e3cc"
      },
      "execution_count": null,
      "outputs": [
        {
          "output_type": "stream",
          "name": "stdout",
          "text": [
            "Model: \"sequential\"\n",
            "_________________________________________________________________\n",
            " Layer (type)                Output Shape              Param #   \n",
            "=================================================================\n",
            " conv2d (Conv2D)             (None, 126, 126, 32)      896       \n",
            "                                                                 \n",
            " max_pooling2d (MaxPooling2D  (None, 63, 63, 32)       0         \n",
            " )                                                               \n",
            "                                                                 \n",
            " flatten (Flatten)           (None, 127008)            0         \n",
            "                                                                 \n",
            " dense (Dense)               (None, 300)               38102700  \n",
            "                                                                 \n",
            " dense_1 (Dense)             (None, 150)               45150     \n",
            "                                                                 \n",
            " dense_2 (Dense)             (None, 9)                 1359      \n",
            "                                                                 \n",
            "=================================================================\n",
            "Total params: 38,150,105\n",
            "Trainable params: 38,150,105\n",
            "Non-trainable params: 0\n",
            "_________________________________________________________________\n"
          ]
        }
      ]
    },
    {
      "cell_type": "markdown",
      "source": [
        "Add Dense layer"
      ],
      "metadata": {
        "id": "yeR9TYuRQlcY"
      }
    },
    {
      "cell_type": "code",
      "source": [
        "model.add(Dense(300,activation='relu'))\n",
        "model.add(Dense(150,activation='relu'))\n",
        "model.add(Dense(9,activation='softmax'))"
      ],
      "metadata": {
        "id": "uyGz9yCkTJ6_"
      },
      "execution_count": null,
      "outputs": []
    },
    {
      "cell_type": "markdown",
      "source": [
        "Train and save the model"
      ],
      "metadata": {
        "id": "5gvnmdrQThnJ"
      }
    },
    {
      "cell_type": "markdown",
      "source": [
        "Compile the model"
      ],
      "metadata": {
        "id": "m4BTyGWZUKG3"
      }
    },
    {
      "cell_type": "code",
      "source": [
        "model.compile(loss='categorical_crossentropy',optimizer='adam',metrics=['accuracy'])"
      ],
      "metadata": {
        "id": "HQpgKrPTUP6T"
      },
      "execution_count": null,
      "outputs": []
    },
    {
      "cell_type": "markdown",
      "source": [
        "Fix the model"
      ],
      "metadata": {
        "id": "dxziYozbZUZ8"
      }
    },
    {
      "cell_type": "code",
      "source": [
        "model.fit(x_train,steps_per_epoch=89,validation_data=x_test,validation_steps=27,epochs=20)"
      ],
      "metadata": {
        "colab": {
          "base_uri": "https://localhost:8080/"
        },
        "id": "KF0kmB_qZXp6",
        "outputId": "84e6b7aa-931d-442e-988e-76da9cd79697"
      },
      "execution_count": null,
      "outputs": [
        {
          "output_type": "stream",
          "name": "stdout",
          "text": [
            "Epoch 1/20\n",
            "89/89 [==============================] - 75s 835ms/step - loss: 0.3780 - accuracy: 0.8744 - val_loss: 1605.5657 - val_accuracy: 0.3472\n",
            "Epoch 2/20\n",
            "89/89 [==============================] - 76s 855ms/step - loss: 0.3961 - accuracy: 0.8648 - val_loss: 2170.4810 - val_accuracy: 0.1817\n",
            "Epoch 3/20\n",
            "89/89 [==============================] - 73s 824ms/step - loss: 0.3687 - accuracy: 0.8669 - val_loss: 1835.6404 - val_accuracy: 0.3032\n",
            "Epoch 4/20\n",
            "89/89 [==============================] - 74s 825ms/step - loss: 0.3291 - accuracy: 0.8897 - val_loss: 1950.2057 - val_accuracy: 0.2917\n",
            "Epoch 5/20\n",
            "89/89 [==============================] - 74s 828ms/step - loss: 0.3324 - accuracy: 0.8761 - val_loss: 2171.5859 - val_accuracy: 0.2315\n",
            "Epoch 6/20\n",
            "89/89 [==============================] - 76s 855ms/step - loss: 0.3167 - accuracy: 0.8887 - val_loss: 2312.2605 - val_accuracy: 0.2523\n",
            "Epoch 7/20\n",
            "89/89 [==============================] - 74s 825ms/step - loss: 0.3258 - accuracy: 0.8845 - val_loss: 1923.3644 - val_accuracy: 0.3067\n",
            "Epoch 8/20\n",
            "89/89 [==============================] - 73s 823ms/step - loss: 0.3200 - accuracy: 0.8876 - val_loss: 1690.9843 - val_accuracy: 0.3009\n",
            "Epoch 9/20\n",
            "89/89 [==============================] - 76s 850ms/step - loss: 0.3045 - accuracy: 0.8919 - val_loss: 2354.1248 - val_accuracy: 0.3183\n",
            "Epoch 10/20\n",
            "89/89 [==============================] - 74s 832ms/step - loss: 0.3056 - accuracy: 0.8989 - val_loss: 2275.9392 - val_accuracy: 0.2975\n",
            "Epoch 11/20\n",
            "89/89 [==============================] - 74s 825ms/step - loss: 0.3004 - accuracy: 0.8920 - val_loss: 1882.0936 - val_accuracy: 0.3831\n",
            "Epoch 12/20\n",
            "89/89 [==============================] - 77s 859ms/step - loss: 0.2695 - accuracy: 0.9038 - val_loss: 2015.9790 - val_accuracy: 0.2616\n",
            "Epoch 13/20\n",
            "89/89 [==============================] - 75s 843ms/step - loss: 0.2928 - accuracy: 0.8940 - val_loss: 2103.8369 - val_accuracy: 0.2975\n",
            "Epoch 14/20\n",
            "89/89 [==============================] - 74s 835ms/step - loss: 0.2457 - accuracy: 0.9101 - val_loss: 1874.9960 - val_accuracy: 0.3021\n",
            "Epoch 15/20\n",
            "89/89 [==============================] - 75s 839ms/step - loss: 0.2565 - accuracy: 0.9108 - val_loss: 2234.6760 - val_accuracy: 0.3102\n",
            "Epoch 16/20\n",
            "89/89 [==============================] - 76s 853ms/step - loss: 0.2581 - accuracy: 0.9089 - val_loss: 2409.8035 - val_accuracy: 0.3322\n",
            "Epoch 17/20\n",
            "89/89 [==============================] - 73s 823ms/step - loss: 0.2643 - accuracy: 0.9091 - val_loss: 2279.3218 - val_accuracy: 0.2731\n",
            "Epoch 18/20\n",
            "89/89 [==============================] - 73s 821ms/step - loss: 0.2539 - accuracy: 0.9101 - val_loss: 2316.0364 - val_accuracy: 0.3345\n",
            "Epoch 19/20\n",
            "89/89 [==============================] - 75s 839ms/step - loss: 0.2801 - accuracy: 0.9091 - val_loss: 2031.9960 - val_accuracy: 0.3252\n",
            "Epoch 20/20\n",
            "89/89 [==============================] - 73s 816ms/step - loss: 0.2092 - accuracy: 0.9192 - val_loss: 2495.3442 - val_accuracy: 0.2940\n"
          ]
        },
        {
          "output_type": "execute_result",
          "data": {
            "text/plain": [
              "<keras.callbacks.History at 0x7f28d3c01990>"
            ]
          },
          "metadata": {},
          "execution_count": 29
        }
      ]
    },
    {
      "cell_type": "markdown",
      "source": [
        "Save the model"
      ],
      "metadata": {
        "id": "FcVqUJ4saq18"
      }
    },
    {
      "cell_type": "code",
      "source": [
        "model.save(\"vegetable.h5\")"
      ],
      "metadata": {
        "id": "4nTDE4EIat9R"
      },
      "execution_count": null,
      "outputs": []
    }
  ]
}