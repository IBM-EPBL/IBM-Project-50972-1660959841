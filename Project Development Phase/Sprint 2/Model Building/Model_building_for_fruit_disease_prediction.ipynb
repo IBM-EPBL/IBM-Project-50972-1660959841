{
  "nbformat": 4,
  "nbformat_minor": 0,
  "metadata": {
    "colab": {
      "provenance": [],
      "collapsed_sections": []
    },
    "kernelspec": {
      "name": "python3",
      "display_name": "Python 3"
    },
    "language_info": {
      "name": "python"
    }
  },
  "cells": [
    {
      "cell_type": "code",
      "execution_count": null,
      "metadata": {
        "id": "jgMUkUMcQNz-"
      },
      "outputs": [],
      "source": [
        "Team ID: PNT2022TMID29439\n",
        "\n",
        "Project Name: Fertilizers Recommendation System for Disease Prediction"
      ]
    },
    {
      "cell_type": "code",
      "source": [
        "from google.colab import drive\n",
        "drive.mount('/content/drive')"
      ],
      "metadata": {
        "id": "p3JO6dnjX3Tr"
      },
      "execution_count": null,
      "outputs": []
    },
    {
      "cell_type": "code",
      "source": [
        "!unzip '/content/drive/MyDrive/Colab Notebooks/Dataset.zip'"
      ],
      "metadata": {
        "id": "4iOqr39PYNi8"
      },
      "execution_count": null,
      "outputs": []
    },
    {
      "cell_type": "code",
      "source": [
        "from keras.preprocessing.image import ImageDataGenerator"
      ],
      "metadata": {
        "id": "FoLHFaPzYr9K"
      },
      "execution_count": 20,
      "outputs": []
    },
    {
      "cell_type": "code",
      "source": [
        "train_datagen = ImageDataGenerator(rescale = 1./255,shear_range = 0.2,zoom_range = 0.2,horizontal_flip = True)\n",
        "test_datagen =ImageDataGenerator(rescale = 1)"
      ],
      "metadata": {
        "id": "ze7pd3wpY5UV"
      },
      "execution_count": 21,
      "outputs": []
    },
    {
      "cell_type": "code",
      "source": [
        "x_train = train_datagen.flow_from_directory('/content/Dataset Plant Disease/fruit-dataset/fruit-dataset/train' ,\n",
        "                                            target_size = (128,128),batch_size = 32, class_mode = 'categorical')\n",
        "x_test = test_datagen.flow_from_directory('/content/Dataset Plant Disease/fruit-dataset/fruit-dataset/test' ,\n",
        "                                            target_size = (128,128),batch_size = 32, class_mode = 'categorical')"
      ],
      "metadata": {
        "colab": {
          "base_uri": "https://localhost:8080/"
        },
        "id": "lEVLXo3oY__m",
        "outputId": "5bdf8a32-e86d-4686-e75f-1ad39b952602"
      },
      "execution_count": 22,
      "outputs": [
        {
          "output_type": "stream",
          "name": "stdout",
          "text": [
            "Found 5384 images belonging to 6 classes.\n",
            "Found 1686 images belonging to 6 classes.\n"
          ]
        }
      ]
    },
    {
      "cell_type": "code",
      "source": [
        "x_train = train_datagen.flow_from_directory('/content/Dataset Plant Disease/Veg-dataset/Veg-dataset/train_set' ,\n",
        "                                            target_size = (128,128),batch_size = 32, class_mode = 'categorical')\n",
        "x_test = test_datagen.flow_from_directory('/content/Dataset Plant Disease/Veg-dataset/Veg-dataset/test_set' ,\n",
        "                                          target_size = (128,128),batch_size = 32, class_mode = 'categorical' )"
      ],
      "metadata": {
        "colab": {
          "base_uri": "https://localhost:8080/"
        },
        "id": "rynIJZ9gZKLp",
        "outputId": "73bee9f7-835e-40dc-dea8-a52ba842c286"
      },
      "execution_count": 23,
      "outputs": [
        {
          "output_type": "stream",
          "name": "stdout",
          "text": [
            "Found 11386 images belonging to 9 classes.\n",
            "Found 3416 images belonging to 9 classes.\n"
          ]
        }
      ]
    },
    {
      "cell_type": "markdown",
      "source": [
        "Import the libraries"
      ],
      "metadata": {
        "id": "fgV6l_PUMRDo"
      }
    },
    {
      "cell_type": "code",
      "source": [
        "from keras.models import Sequential\n",
        "from keras.layers import Dense\n",
        "from keras.layers import Convolution2D\n",
        "from keras.layers import MaxPooling2D\n",
        "from keras.layers import Flatten"
      ],
      "metadata": {
        "id": "0qMDUQaEKduY"
      },
      "execution_count": 3,
      "outputs": []
    },
    {
      "cell_type": "markdown",
      "source": [
        "Initializing the model"
      ],
      "metadata": {
        "id": "Zh9Cm36JMaH_"
      }
    },
    {
      "cell_type": "code",
      "source": [
        "model=Sequential()"
      ],
      "metadata": {
        "id": "WX315UzJKU4W"
      },
      "execution_count": 4,
      "outputs": []
    },
    {
      "cell_type": "markdown",
      "source": [
        "Add CNN layer"
      ],
      "metadata": {
        "id": "2cmktPw7MnoL"
      }
    },
    {
      "cell_type": "markdown",
      "source": [
        "Add convolution layer"
      ],
      "metadata": {
        "id": "Kh7gkjtsNJpH"
      }
    },
    {
      "cell_type": "code",
      "source": [
        "model.add(Convolution2D(32,(3,3),input_shape = (128,128,3),activation = 'relu'))"
      ],
      "metadata": {
        "id": "V6QJMyxuNd2m"
      },
      "execution_count": 5,
      "outputs": []
    },
    {
      "cell_type": "markdown",
      "source": [
        "Add Pooling layer"
      ],
      "metadata": {
        "id": "KiTr14euOU4E"
      }
    },
    {
      "cell_type": "code",
      "source": [
        "model.add(MaxPooling2D(pool_size = (2,2)))"
      ],
      "metadata": {
        "id": "U0t4kkJZOhr8"
      },
      "execution_count": 6,
      "outputs": []
    },
    {
      "cell_type": "markdown",
      "source": [
        "Add Flatten layer"
      ],
      "metadata": {
        "id": "1vdpHGNEPgPx"
      }
    },
    {
      "cell_type": "code",
      "source": [
        "model.add(Flatten())"
      ],
      "metadata": {
        "id": "Zmyl87AMP_ig"
      },
      "execution_count": 7,
      "outputs": []
    },
    {
      "cell_type": "markdown",
      "source": [
        "Add Dense layer"
      ],
      "metadata": {
        "id": "yeR9TYuRQlcY"
      }
    },
    {
      "cell_type": "code",
      "source": [
        "model.add(Dense(300,activation='relu'))\n",
        "model.add(Dense(150,activation='relu'))\n",
        "model.add(Dense(9,activation='softmax'))"
      ],
      "metadata": {
        "id": "uyGz9yCkTJ6_"
      },
      "execution_count": 9,
      "outputs": []
    },
    {
      "cell_type": "markdown",
      "source": [
        "Train and save the model"
      ],
      "metadata": {
        "id": "5gvnmdrQThnJ"
      }
    },
    {
      "cell_type": "markdown",
      "source": [
        "Compile the model"
      ],
      "metadata": {
        "id": "m4BTyGWZUKG3"
      }
    },
    {
      "cell_type": "code",
      "source": [
        "model.compile(loss='categorical_crossentropy',optimizer='adam',metrics=['accuracy'])"
      ],
      "metadata": {
        "id": "HQpgKrPTUP6T"
      },
      "execution_count": 10,
      "outputs": []
    },
    {
      "cell_type": "markdown",
      "source": [
        "Fix the model"
      ],
      "metadata": {
        "id": "dxziYozbZUZ8"
      }
    },
    {
      "cell_type": "code",
      "source": [
        "model.fit(x_train,steps_per_epoch=168,validation_data=x_test,validation_steps=52,epochs=3)"
      ],
      "metadata": {
        "colab": {
          "base_uri": "https://localhost:8080/"
        },
        "id": "KF0kmB_qZXp6",
        "outputId": "144c2436-8c67-414f-f684-93f15571ae28"
      },
      "execution_count": null,
      "outputs": [
        {
          "output_type": "stream",
          "name": "stdout",
          "text": [
            "Epoch 1/3\n",
            "168/168 [==============================] - 154s 918ms/step - loss: 0.5329 - accuracy: 0.8216 - val_loss: 1583.1968 - val_accuracy: 0.3621\n",
            "Epoch 2/3\n",
            "168/168 [==============================] - 150s 894ms/step - loss: 0.4734 - accuracy: 0.8358 - val_loss: 1741.6771 - val_accuracy: 0.3006\n",
            "Epoch 3/3\n",
            "130/168 [======================>.......] - ETA: 29s - loss: 0.4230 - accuracy: 0.8493"
          ]
        }
      ]
    },
    {
      "cell_type": "markdown",
      "source": [
        "Save the model"
      ],
      "metadata": {
        "id": "FcVqUJ4saq18"
      }
    },
    {
      "cell_type": "code",
      "source": [
        "model.save(\"fruit.h5\")"
      ],
      "metadata": {
        "id": "4nTDE4EIat9R"
      },
      "execution_count": 26,
      "outputs": []
    }
  ]
}